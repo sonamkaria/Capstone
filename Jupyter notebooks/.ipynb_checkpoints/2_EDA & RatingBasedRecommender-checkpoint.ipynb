{
 "cells": [
  {
   "cell_type": "code",
   "execution_count": 2,
   "metadata": {},
   "outputs": [],
   "source": [
    "import pandas as pd\n",
    "import numpy as np\n",
    "import matplotlib.pyplot as plt\n",
    "import seaborn as sns\n",
    "import glob\n",
    "import sys\n",
    "import pandas as pd\n",
    "from scipy import sparse #cut down on memory size\n",
    "from sklearn.metrics.pairwise import pairwise_distances "
   ]
  },
  {
   "cell_type": "code",
   "execution_count": 3,
   "metadata": {},
   "outputs": [],
   "source": [
    "#merging all datasets\n",
    "#df = pd.concat(map(pd.read_csv, glob.glob('datasets/*.csv')))"
   ]
  },
  {
   "cell_type": "code",
   "execution_count": 7,
   "metadata": {},
   "outputs": [],
   "source": [
    "# reading in the data\n",
    "df = pd.read_csv('../datasets/book_rating_dataset/ratings.csv')"
   ]
  },
  {
   "cell_type": "code",
   "execution_count": 8,
   "metadata": {},
   "outputs": [
    {
     "data": {
      "text/html": [
       "<div>\n",
       "<style scoped>\n",
       "    .dataframe tbody tr th:only-of-type {\n",
       "        vertical-align: middle;\n",
       "    }\n",
       "\n",
       "    .dataframe tbody tr th {\n",
       "        vertical-align: top;\n",
       "    }\n",
       "\n",
       "    .dataframe thead th {\n",
       "        text-align: right;\n",
       "    }\n",
       "</style>\n",
       "<table border=\"1\" class=\"dataframe\">\n",
       "  <thead>\n",
       "    <tr style=\"text-align: right;\">\n",
       "      <th></th>\n",
       "      <th>Unnamed: 0</th>\n",
       "      <th>Unnamed: 0.1</th>\n",
       "      <th>user_id</th>\n",
       "      <th>rating</th>\n",
       "      <th>book_name</th>\n",
       "      <th>book_id</th>\n",
       "    </tr>\n",
       "  </thead>\n",
       "  <tbody>\n",
       "    <tr>\n",
       "      <td>0</td>\n",
       "      <td>0</td>\n",
       "      <td>0</td>\n",
       "      <td>11375137</td>\n",
       "      <td>it was amazing</td>\n",
       "      <td>Harry Potter and the Half-Blood Prince</td>\n",
       "      <td>1</td>\n",
       "    </tr>\n",
       "    <tr>\n",
       "      <td>1</td>\n",
       "      <td>202</td>\n",
       "      <td>202</td>\n",
       "      <td>4886576</td>\n",
       "      <td>it was amazing</td>\n",
       "      <td>Harry Potter and the Half-Blood Prince</td>\n",
       "      <td>1</td>\n",
       "    </tr>\n",
       "    <tr>\n",
       "      <td>2</td>\n",
       "      <td>201</td>\n",
       "      <td>201</td>\n",
       "      <td>14066678</td>\n",
       "      <td>it was amazing</td>\n",
       "      <td>Harry Potter and the Half-Blood Prince</td>\n",
       "      <td>1</td>\n",
       "    </tr>\n",
       "    <tr>\n",
       "      <td>3</td>\n",
       "      <td>200</td>\n",
       "      <td>200</td>\n",
       "      <td>68204342</td>\n",
       "      <td>it was amazing</td>\n",
       "      <td>Harry Potter and the Half-Blood Prince</td>\n",
       "      <td>1</td>\n",
       "    </tr>\n",
       "    <tr>\n",
       "      <td>4</td>\n",
       "      <td>199</td>\n",
       "      <td>199</td>\n",
       "      <td>13614926</td>\n",
       "      <td>it was amazing</td>\n",
       "      <td>Harry Potter and the Half-Blood Prince</td>\n",
       "      <td>1</td>\n",
       "    </tr>\n",
       "  </tbody>\n",
       "</table>\n",
       "</div>"
      ],
      "text/plain": [
       "   Unnamed: 0  Unnamed: 0.1   user_id          rating  \\\n",
       "0           0             0  11375137  it was amazing   \n",
       "1         202           202   4886576  it was amazing   \n",
       "2         201           201  14066678  it was amazing   \n",
       "3         200           200  68204342  it was amazing   \n",
       "4         199           199  13614926  it was amazing   \n",
       "\n",
       "                                book_name  book_id  \n",
       "0  Harry Potter and the Half-Blood Prince        1  \n",
       "1  Harry Potter and the Half-Blood Prince        1  \n",
       "2  Harry Potter and the Half-Blood Prince        1  \n",
       "3  Harry Potter and the Half-Blood Prince        1  \n",
       "4  Harry Potter and the Half-Blood Prince        1  "
      ]
     },
     "execution_count": 8,
     "metadata": {},
     "output_type": "execute_result"
    }
   ],
   "source": [
    "df.head()"
   ]
  },
  {
   "cell_type": "code",
   "execution_count": 30,
   "metadata": {},
   "outputs": [
    {
     "data": {
      "text/html": [
       "<div>\n",
       "<style scoped>\n",
       "    .dataframe tbody tr th:only-of-type {\n",
       "        vertical-align: middle;\n",
       "    }\n",
       "\n",
       "    .dataframe tbody tr th {\n",
       "        vertical-align: top;\n",
       "    }\n",
       "\n",
       "    .dataframe thead th {\n",
       "        text-align: right;\n",
       "    }\n",
       "</style>\n",
       "<table border=\"1\" class=\"dataframe\">\n",
       "  <thead>\n",
       "    <tr style=\"text-align: right;\">\n",
       "      <th></th>\n",
       "      <th>Unnamed: 0</th>\n",
       "      <th>Unnamed: 0.1</th>\n",
       "      <th>user_id</th>\n",
       "      <th>rating</th>\n",
       "      <th>book_name</th>\n",
       "      <th>book_id</th>\n",
       "    </tr>\n",
       "  </thead>\n",
       "  <tbody>\n",
       "    <tr>\n",
       "      <td>0</td>\n",
       "      <td>0</td>\n",
       "      <td>0</td>\n",
       "      <td>11375137</td>\n",
       "      <td>it was amazing</td>\n",
       "      <td>Harry Potter and the Half-Blood Prince</td>\n",
       "      <td>1</td>\n",
       "    </tr>\n",
       "    <tr>\n",
       "      <td>1</td>\n",
       "      <td>202</td>\n",
       "      <td>202</td>\n",
       "      <td>4886576</td>\n",
       "      <td>it was amazing</td>\n",
       "      <td>Harry Potter and the Half-Blood Prince</td>\n",
       "      <td>1</td>\n",
       "    </tr>\n",
       "    <tr>\n",
       "      <td>2</td>\n",
       "      <td>201</td>\n",
       "      <td>201</td>\n",
       "      <td>14066678</td>\n",
       "      <td>it was amazing</td>\n",
       "      <td>Harry Potter and the Half-Blood Prince</td>\n",
       "      <td>1</td>\n",
       "    </tr>\n",
       "    <tr>\n",
       "      <td>3</td>\n",
       "      <td>200</td>\n",
       "      <td>200</td>\n",
       "      <td>68204342</td>\n",
       "      <td>it was amazing</td>\n",
       "      <td>Harry Potter and the Half-Blood Prince</td>\n",
       "      <td>1</td>\n",
       "    </tr>\n",
       "    <tr>\n",
       "      <td>4</td>\n",
       "      <td>199</td>\n",
       "      <td>199</td>\n",
       "      <td>13614926</td>\n",
       "      <td>it was amazing</td>\n",
       "      <td>Harry Potter and the Half-Blood Prince</td>\n",
       "      <td>1</td>\n",
       "    </tr>\n",
       "    <tr>\n",
       "      <td>...</td>\n",
       "      <td>...</td>\n",
       "      <td>...</td>\n",
       "      <td>...</td>\n",
       "      <td>...</td>\n",
       "      <td>...</td>\n",
       "      <td>...</td>\n",
       "    </tr>\n",
       "    <tr>\n",
       "      <td>532024</td>\n",
       "      <td>12921</td>\n",
       "      <td>12921</td>\n",
       "      <td>81152050</td>\n",
       "      <td>it was amazing</td>\n",
       "      <td>Man's Search for Meaning</td>\n",
       "      <td>4069</td>\n",
       "    </tr>\n",
       "    <tr>\n",
       "      <td>532025</td>\n",
       "      <td>12920</td>\n",
       "      <td>12920</td>\n",
       "      <td>9945293</td>\n",
       "      <td>it was amazing</td>\n",
       "      <td>Man's Search for Meaning</td>\n",
       "      <td>4069</td>\n",
       "    </tr>\n",
       "    <tr>\n",
       "      <td>532026</td>\n",
       "      <td>12919</td>\n",
       "      <td>12919</td>\n",
       "      <td>35705439</td>\n",
       "      <td>it was amazing</td>\n",
       "      <td>Man's Search for Meaning</td>\n",
       "      <td>4069</td>\n",
       "    </tr>\n",
       "    <tr>\n",
       "      <td>532027</td>\n",
       "      <td>12897</td>\n",
       "      <td>12897</td>\n",
       "      <td>365163</td>\n",
       "      <td>it was amazing</td>\n",
       "      <td>Man's Search for Meaning</td>\n",
       "      <td>4069</td>\n",
       "    </tr>\n",
       "    <tr>\n",
       "      <td>532028</td>\n",
       "      <td>13139</td>\n",
       "      <td>13139</td>\n",
       "      <td>4771992</td>\n",
       "      <td>it was amazing</td>\n",
       "      <td>Man's Search for Meaning</td>\n",
       "      <td>4069</td>\n",
       "    </tr>\n",
       "  </tbody>\n",
       "</table>\n",
       "<p>532029 rows × 6 columns</p>\n",
       "</div>"
      ],
      "text/plain": [
       "        Unnamed: 0  Unnamed: 0.1   user_id          rating  \\\n",
       "0                0             0  11375137  it was amazing   \n",
       "1              202           202   4886576  it was amazing   \n",
       "2              201           201  14066678  it was amazing   \n",
       "3              200           200  68204342  it was amazing   \n",
       "4              199           199  13614926  it was amazing   \n",
       "...            ...           ...       ...             ...   \n",
       "532024       12921         12921  81152050  it was amazing   \n",
       "532025       12920         12920   9945293  it was amazing   \n",
       "532026       12919         12919  35705439  it was amazing   \n",
       "532027       12897         12897    365163  it was amazing   \n",
       "532028       13139         13139   4771992  it was amazing   \n",
       "\n",
       "                                     book_name  book_id  \n",
       "0       Harry Potter and the Half-Blood Prince        1  \n",
       "1       Harry Potter and the Half-Blood Prince        1  \n",
       "2       Harry Potter and the Half-Blood Prince        1  \n",
       "3       Harry Potter and the Half-Blood Prince        1  \n",
       "4       Harry Potter and the Half-Blood Prince        1  \n",
       "...                                        ...      ...  \n",
       "532024                Man's Search for Meaning     4069  \n",
       "532025                Man's Search for Meaning     4069  \n",
       "532026                Man's Search for Meaning     4069  \n",
       "532027                Man's Search for Meaning     4069  \n",
       "532028                Man's Search for Meaning     4069  \n",
       "\n",
       "[532029 rows x 6 columns]"
      ]
     },
     "execution_count": 30,
     "metadata": {},
     "output_type": "execute_result"
    }
   ],
   "source": [
    "# Dropping duplicate rows so that we have unique values\n",
    "df.drop_duplicates()"
   ]
  },
  {
   "cell_type": "code",
   "execution_count": 31,
   "metadata": {},
   "outputs": [],
   "source": [
    "#dropped unnamed column\n",
    "df.drop(columns = ['Unnamed: 0', 'Unnamed: 0.1'], axis = 0, inplace = True)"
   ]
  },
  {
   "cell_type": "code",
   "execution_count": 32,
   "metadata": {},
   "outputs": [
    {
     "data": {
      "text/html": [
       "<div>\n",
       "<style scoped>\n",
       "    .dataframe tbody tr th:only-of-type {\n",
       "        vertical-align: middle;\n",
       "    }\n",
       "\n",
       "    .dataframe tbody tr th {\n",
       "        vertical-align: top;\n",
       "    }\n",
       "\n",
       "    .dataframe thead th {\n",
       "        text-align: right;\n",
       "    }\n",
       "</style>\n",
       "<table border=\"1\" class=\"dataframe\">\n",
       "  <thead>\n",
       "    <tr style=\"text-align: right;\">\n",
       "      <th></th>\n",
       "      <th>user_id</th>\n",
       "      <th>rating</th>\n",
       "      <th>book_name</th>\n",
       "      <th>book_id</th>\n",
       "    </tr>\n",
       "  </thead>\n",
       "  <tbody>\n",
       "    <tr>\n",
       "      <td>2183</td>\n",
       "      <td>1767810</td>\n",
       "      <td>it was amazing</td>\n",
       "      <td>Harry Potter Collection</td>\n",
       "      <td>10</td>\n",
       "    </tr>\n",
       "    <tr>\n",
       "      <td>2184</td>\n",
       "      <td>61943</td>\n",
       "      <td>really liked it</td>\n",
       "      <td>Harry Potter Collection</td>\n",
       "      <td>10</td>\n",
       "    </tr>\n",
       "    <tr>\n",
       "      <td>2185</td>\n",
       "      <td>3837433</td>\n",
       "      <td>it was amazing</td>\n",
       "      <td>Harry Potter Collection</td>\n",
       "      <td>10</td>\n",
       "    </tr>\n",
       "    <tr>\n",
       "      <td>2186</td>\n",
       "      <td>16086777</td>\n",
       "      <td>really liked it</td>\n",
       "      <td>Harry Potter Collection</td>\n",
       "      <td>10</td>\n",
       "    </tr>\n",
       "    <tr>\n",
       "      <td>2187</td>\n",
       "      <td>4533402</td>\n",
       "      <td>it was amazing</td>\n",
       "      <td>Harry Potter Collection</td>\n",
       "      <td>10</td>\n",
       "    </tr>\n",
       "    <tr>\n",
       "      <td>...</td>\n",
       "      <td>...</td>\n",
       "      <td>...</td>\n",
       "      <td>...</td>\n",
       "      <td>...</td>\n",
       "    </tr>\n",
       "    <tr>\n",
       "      <td>2465</td>\n",
       "      <td>78063828</td>\n",
       "      <td>it was amazing</td>\n",
       "      <td>Harry Potter Collection</td>\n",
       "      <td>10</td>\n",
       "    </tr>\n",
       "    <tr>\n",
       "      <td>2466</td>\n",
       "      <td>3306715</td>\n",
       "      <td>really liked it</td>\n",
       "      <td>Harry Potter Collection</td>\n",
       "      <td>10</td>\n",
       "    </tr>\n",
       "    <tr>\n",
       "      <td>2467</td>\n",
       "      <td>2040098</td>\n",
       "      <td>it was amazing</td>\n",
       "      <td>Harry Potter Collection</td>\n",
       "      <td>10</td>\n",
       "    </tr>\n",
       "    <tr>\n",
       "      <td>2468</td>\n",
       "      <td>74059600</td>\n",
       "      <td>it was amazing</td>\n",
       "      <td>Harry Potter Collection</td>\n",
       "      <td>10</td>\n",
       "    </tr>\n",
       "    <tr>\n",
       "      <td>2469</td>\n",
       "      <td>39136095</td>\n",
       "      <td>it was amazing</td>\n",
       "      <td>Harry Potter Collection</td>\n",
       "      <td>10</td>\n",
       "    </tr>\n",
       "  </tbody>\n",
       "</table>\n",
       "<p>287 rows × 4 columns</p>\n",
       "</div>"
      ],
      "text/plain": [
       "       user_id           rating                book_name  book_id\n",
       "2183   1767810   it was amazing  Harry Potter Collection       10\n",
       "2184     61943  really liked it  Harry Potter Collection       10\n",
       "2185   3837433   it was amazing  Harry Potter Collection       10\n",
       "2186  16086777  really liked it  Harry Potter Collection       10\n",
       "2187   4533402   it was amazing  Harry Potter Collection       10\n",
       "...        ...              ...                      ...      ...\n",
       "2465  78063828   it was amazing  Harry Potter Collection       10\n",
       "2466   3306715  really liked it  Harry Potter Collection       10\n",
       "2467   2040098   it was amazing  Harry Potter Collection       10\n",
       "2468  74059600   it was amazing  Harry Potter Collection       10\n",
       "2469  39136095   it was amazing  Harry Potter Collection       10\n",
       "\n",
       "[287 rows x 4 columns]"
      ]
     },
     "execution_count": 32,
     "metadata": {},
     "output_type": "execute_result"
    }
   ],
   "source": [
    "# creating a mask for sanity check\n",
    "df[df['book_id']==10]"
   ]
  },
  {
   "cell_type": "code",
   "execution_count": 33,
   "metadata": {},
   "outputs": [],
   "source": [
    "# sorting the dataframe by book id\n",
    "df = df.sort_values(by = 'book_id')"
   ]
  },
  {
   "cell_type": "code",
   "execution_count": 34,
   "metadata": {},
   "outputs": [
    {
     "data": {
      "text/plain": [
       "0"
      ]
     },
     "execution_count": 34,
     "metadata": {},
     "output_type": "execute_result"
    }
   ],
   "source": [
    "#checking for null values\n",
    "df['book_id'].isnull().sum()"
   ]
  },
  {
   "cell_type": "code",
   "execution_count": 35,
   "metadata": {},
   "outputs": [
    {
     "data": {
      "text/html": [
       "<div>\n",
       "<style scoped>\n",
       "    .dataframe tbody tr th:only-of-type {\n",
       "        vertical-align: middle;\n",
       "    }\n",
       "\n",
       "    .dataframe tbody tr th {\n",
       "        vertical-align: top;\n",
       "    }\n",
       "\n",
       "    .dataframe thead th {\n",
       "        text-align: right;\n",
       "    }\n",
       "</style>\n",
       "<table border=\"1\" class=\"dataframe\">\n",
       "  <thead>\n",
       "    <tr style=\"text-align: right;\">\n",
       "      <th></th>\n",
       "      <th>user_id</th>\n",
       "      <th>rating</th>\n",
       "      <th>book_name</th>\n",
       "      <th>book_id</th>\n",
       "    </tr>\n",
       "  </thead>\n",
       "  <tbody>\n",
       "    <tr>\n",
       "      <td>133165</td>\n",
       "      <td>51819223</td>\n",
       "      <td>it was amazing</td>\n",
       "      <td>Millionaire Women Next Door: The Many Journeys of Successful American Businesswomen</td>\n",
       "      <td>1000</td>\n",
       "    </tr>\n",
       "    <tr>\n",
       "      <td>133164</td>\n",
       "      <td>1302420</td>\n",
       "      <td>it was amazing</td>\n",
       "      <td>Millionaire Women Next Door: The Many Journeys of Successful American Businesswomen</td>\n",
       "      <td>1000</td>\n",
       "    </tr>\n",
       "    <tr>\n",
       "      <td>133163</td>\n",
       "      <td>4620479</td>\n",
       "      <td>it was amazing</td>\n",
       "      <td>Millionaire Women Next Door: The Many Journeys of Successful American Businesswomen</td>\n",
       "      <td>1000</td>\n",
       "    </tr>\n",
       "    <tr>\n",
       "      <td>133162</td>\n",
       "      <td>2787011</td>\n",
       "      <td>liked it</td>\n",
       "      <td>Millionaire Women Next Door: The Many Journeys of Successful American Businesswomen</td>\n",
       "      <td>1000</td>\n",
       "    </tr>\n",
       "    <tr>\n",
       "      <td>133161</td>\n",
       "      <td>14176203</td>\n",
       "      <td>really liked it</td>\n",
       "      <td>Millionaire Women Next Door: The Many Journeys of Successful American Businesswomen</td>\n",
       "      <td>1000</td>\n",
       "    </tr>\n",
       "  </tbody>\n",
       "</table>\n",
       "</div>"
      ],
      "text/plain": [
       "         user_id           rating  \\\n",
       "133165  51819223   it was amazing   \n",
       "133164   1302420   it was amazing   \n",
       "133163   4620479   it was amazing   \n",
       "133162   2787011         liked it   \n",
       "133161  14176203  really liked it   \n",
       "\n",
       "                                                                                  book_name  \\\n",
       "133165  Millionaire Women Next Door: The Many Journeys of Successful American Businesswomen   \n",
       "133164  Millionaire Women Next Door: The Many Journeys of Successful American Businesswomen   \n",
       "133163  Millionaire Women Next Door: The Many Journeys of Successful American Businesswomen   \n",
       "133162  Millionaire Women Next Door: The Many Journeys of Successful American Businesswomen   \n",
       "133161  Millionaire Women Next Door: The Many Journeys of Successful American Businesswomen   \n",
       "\n",
       "        book_id  \n",
       "133165     1000  \n",
       "133164     1000  \n",
       "133163     1000  \n",
       "133162     1000  \n",
       "133161     1000  "
      ]
     },
     "execution_count": 35,
     "metadata": {},
     "output_type": "execute_result"
    }
   ],
   "source": [
    "# observation for visualization\n",
    "pd.set_option('display.max_colwidth', 999)\n",
    "df[df['book_id'] == 1000].head()\n"
   ]
  },
  {
   "cell_type": "code",
   "execution_count": 36,
   "metadata": {},
   "outputs": [
    {
     "data": {
      "text/plain": [
       "(532029, 4)"
      ]
     },
     "execution_count": 36,
     "metadata": {},
     "output_type": "execute_result"
    }
   ],
   "source": [
    "# checking the number of rows and columns\n",
    "df.shape"
   ]
  },
  {
   "cell_type": "code",
   "execution_count": 37,
   "metadata": {},
   "outputs": [
    {
     "data": {
      "text/plain": [
       "it was amazing     185740\n",
       "really liked it    173860\n",
       "liked it           108993\n",
       "it was ok           40834\n",
       "did not like it     22602\n",
       "Name: rating, dtype: int64"
      ]
     },
     "execution_count": 37,
     "metadata": {},
     "output_type": "execute_result"
    }
   ],
   "source": [
    "#checking the value counts for rating in order to map it on a scale of 1 - 5; 5 being the best\n",
    "df['rating'].value_counts()"
   ]
  },
  {
   "cell_type": "code",
   "execution_count": 38,
   "metadata": {},
   "outputs": [],
   "source": [
    "#mapped rating from 1-5\n",
    "df['rating']=df['rating'].map({'it was amazing': 5,\n",
    "                               'really liked it':4, \n",
    "                               'liked it':3,\n",
    "                               'it was ok':2, \n",
    "                               'did not like it': 1})"
   ]
  },
  {
   "cell_type": "code",
   "execution_count": 39,
   "metadata": {},
   "outputs": [
    {
     "data": {
      "text/plain": [
       "5    185740\n",
       "4    173860\n",
       "3    108993\n",
       "2     40834\n",
       "1     22602\n",
       "Name: rating, dtype: int64"
      ]
     },
     "execution_count": 39,
     "metadata": {},
     "output_type": "execute_result"
    }
   ],
   "source": [
    "df['rating'].value_counts()"
   ]
  },
  {
   "cell_type": "code",
   "execution_count": 40,
   "metadata": {},
   "outputs": [
    {
     "data": {
      "image/png": "[encoded data removed]",
      "text/plain": [
       "<Figure size 360x360 with 1 Axes>"
      ]
     },
     "metadata": {
      "needs_background": "light"
     },
     "output_type": "display_data"
    }
   ],
   "source": [
    "# checking visually value counts for ratings\n",
    "sns.catplot(x='rating',kind='count', data=df, orient=\"h\", palette ='Blues')\n",
    "plt.title('Value_counts for ratings');"
   ]
  },
  {
   "cell_type": "code",
   "execution_count": 41,
   "metadata": {},
   "outputs": [
    {
     "data": {
      "text/plain": [
       "133165    Millionaire Women Next Door: The Many Journeys of Successful American Businesswomen\n",
       "133164    Millionaire Women Next Door: The Many Journeys of Successful American Businesswomen\n",
       "133163    Millionaire Women Next Door: The Many Journeys of Successful American Businesswomen\n",
       "133162    Millionaire Women Next Door: The Many Journeys of Successful American Businesswomen\n",
       "133161    Millionaire Women Next Door: The Many Journeys of Successful American Businesswomen\n",
       "Name: book_name, dtype: object"
      ]
     },
     "execution_count": 41,
     "metadata": {},
     "output_type": "execute_result"
    }
   ],
   "source": [
    "#Visualizing first 5 user_id ratings for book_id = 1000\n",
    "mask = df[df['book_id'] == 1000].head()\n",
    "mask['book_name']"
   ]
  },
  {
   "cell_type": "code",
   "execution_count": 42,
   "metadata": {},
   "outputs": [
    {
     "data": {
      "image/png": "[encoded data removed]",
      "text/plain": [
       "<Figure size 360x360 with 1 Axes>"
      ]
     },
     "metadata": {
      "needs_background": "light"
     },
     "output_type": "display_data"
    }
   ],
   "source": [
    "#first five user_ratings for book id =1000\n",
    "sns.catplot(x=\"user_id\",y=\"rating\",kind='bar',data=mask, palette ='Blues')\n",
    "plt.title('Millionaire Women Next Door: The Many Journeys of Successful American Businesswomen');"
   ]
  },
  {
   "cell_type": "markdown",
   "metadata": {},
   "source": [
    "## Item-based collaborative recommender"
   ]
  },
  {
   "cell_type": "markdown",
   "metadata": {},
   "source": [
    "#### Create a pivot table\n",
    " - Pivot table willl convert an array into matrix form\n",
    " - We need to specify our index, columns and values for the matrix\n",
    " - Index is the book name and the values for the index is the ratings. Columns are the users \n",
    " - Checking the shape of the matrix \n"
   ]
  },
  {
   "cell_type": "code",
   "execution_count": null,
   "metadata": {},
   "outputs": [],
   "source": [
    "pivot = df.pivot_table(index = 'book_name', columns = 'user_id', values = 'rating')# user id as the index- swap\n",
    "pivot.head()"
   ]
  },
  {
   "cell_type": "code",
   "execution_count": null,
   "metadata": {},
   "outputs": [],
   "source": [
    "pivot.shape"
   ]
  },
  {
   "cell_type": "markdown",
   "metadata": {},
   "source": [
    "#### Create sparse matrix\n",
    " - Created a sparse matrix since the size of the pivot dataset is too large\n",
    " - Sparse matrix performs gradient decent under the hood in order to decrease the size of the matrix\n",
    " - The shape is not affected, only the size of the matrix is reduced\n",
    "---\n",
    " - Sparse matrix shows the index and the column name which has value(rating), since everything else is 0 except one rating per user\n",
    " - It also shows the rating value ( code shown below in the print statement )"
   ]
  },
  {
   "cell_type": "code",
   "execution_count": null,
   "metadata": {},
   "outputs": [],
   "source": [
    "# checking the shape\n",
    "pivot.shape"
   ]
  },
  {
   "cell_type": "code",
   "execution_count": null,
   "metadata": {},
   "outputs": [],
   "source": [
    "# checking the size of the pivot table\n",
    "sys.getsizeof(pivot) #byte size"
   ]
  },
  {
   "cell_type": "code",
   "execution_count": null,
   "metadata": {},
   "outputs": [],
   "source": [
    "# we want a metrix with a smaller file size for easier computation\n",
    "pivot_sparse = sparse.csr_matrix(pivot.fillna(0))\n"
   ]
  },
  {
   "cell_type": "code",
   "execution_count": null,
   "metadata": {},
   "outputs": [],
   "source": [
    "# no changes in the shape\n",
    "pivot_sparse.shape"
   ]
  },
  {
   "cell_type": "code",
   "execution_count": null,
   "metadata": {},
   "outputs": [],
   "source": [
    "sys.getsizeof(pivot_sparse) # we decreased our byte size"
   ]
  },
  {
   "cell_type": "code",
   "execution_count": null,
   "metadata": {},
   "outputs": [],
   "source": [
    "print(pivot_sparse[:5, :])"
   ]
  },
  {
   "cell_type": "markdown",
   "metadata": {},
   "source": [
    "#### Calculate cosine similarities\n",
    " - Pairwise distances is an sklearn function which will calculate the row wise difference between books\n",
    " - It will return a square matrix with the comparisons"
   ]
  },
  {
   "cell_type": "code",
   "execution_count": null,
   "metadata": {},
   "outputs": [],
   "source": [
    "# cos sim: -1 and +1 where +1 is good\n",
    "# pairwise: 0 and 1 where 0 is good\n",
    "recommender = pairwise_distances(pivot_sparse, metric='cosine')\n",
    "recommender"
   ]
  },
  {
   "cell_type": "markdown",
   "metadata": {},
   "source": [
    "#### Create distances dataframe\n",
    " - We create a pandas dataframe from the array above since it is easier to visualize \n",
    " - The values are the distances calculated between books"
   ]
  },
  {
   "cell_type": "code",
   "execution_count": null,
   "metadata": {},
   "outputs": [],
   "source": [
    "# previous pivot table has the name of the indices, we can put them togeather and create a pandas dataframe\n",
    "recommender_df = pd.DataFrame(recommender, index = pivot.index, columns = pivot.index)"
   ]
  },
  {
   "cell_type": "code",
   "execution_count": null,
   "metadata": {},
   "outputs": [],
   "source": [
    "recommender_df"
   ]
  },
  {
   "cell_type": "markdown",
   "metadata": {},
   "source": [
    "#### Evaluate recommender performance\n",
    " - Create a filter to find the name of the books\n",
    " - Copy paste the name of the book to the recommender df\n",
    " - Sort values from highest to lowest\n",
    " - Started from 1 since 0 is the book against itself"
   ]
  },
  {
   "cell_type": "code",
   "execution_count": null,
   "metadata": {},
   "outputs": [],
   "source": [
    "# to see the entire line in the title\n",
    "pd.set_option('display.max_colwidth', 999)"
   ]
  },
  {
   "cell_type": "code",
   "execution_count": null,
   "metadata": {},
   "outputs": [],
   "source": [
    "# searching the book , then copy pasting it in the cell below to get the values\n",
    "df.loc[df['book_name'].str.contains('Soul')]"
   ]
  },
  {
   "cell_type": "code",
   "execution_count": null,
   "metadata": {},
   "outputs": [],
   "source": [
    "# searching the book , then copy pasting it in the cell below to get the values\n",
    "df.loc[df['book_name'].str.contains('Hope')][1:5]"
   ]
  },
  {
   "cell_type": "code",
   "execution_count": null,
   "metadata": {},
   "outputs": [],
   "source": [
    "# checking the output of item based recommender system\n",
    "recommender_df[\"Communication, Technology and Cultural Change\"].sort_values()[1:20]"
   ]
  }
 ],
 "metadata": {
  "kernelspec": {
   "display_name": "Python 3",
   "language": "python",
   "name": "python3"
  },
  "language_info": {
   "codemirror_mode": {
    "name": "ipython",
    "version": 3
   },
   "file_extension": ".py",
   "mimetype": "text/x-python",
   "name": "python",
   "nbconvert_exporter": "python",
   "pygments_lexer": "ipython3",
   "version": "3.7.3"
  }
 },
 "nbformat": 4,
 "nbformat_minor": 2
}
